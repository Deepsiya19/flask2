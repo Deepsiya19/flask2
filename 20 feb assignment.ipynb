{
 "cells": [
  {
   "cell_type": "markdown",
   "id": "956173e7-0022-4695-8a8e-1a42cdc86784",
   "metadata": {},
   "source": [
    "# 20 Feb assignment(flask2)"
   ]
  },
  {
   "cell_type": "markdown",
   "id": "12557805-232a-46ed-ae97-49f68e71d6f1",
   "metadata": {},
   "source": [
    "# Q1. Explain GET and POST methods."
   ]
  },
  {
   "cell_type": "markdown",
   "id": "dd03155b-3da5-4371-8e1d-a56110efdbbd",
   "metadata": {},
   "source": [
    "HTTP (Hypertext Transfer Protocol) supports several methods, two of the most commonly used ones are the GET and POST methods. These methods define the action that should be performed for a given resource.\n",
    "\n",
    "### GET Method:\n",
    "- **Purpose:** The GET method is used to request data from a specified resource.\n",
    "- **Data in URL:** Parameters are included in the URL. For example, in the URL `http://example.com/resource?param1=value1&param2=value2`, the parameters are included in the query string.\n",
    "- **Caching:** Responses can be cached, and the data is visible in the URL.\n",
    "- **Idempotent:** The operation is idempotent, meaning that multiple identical requests should have the same effect as a single request.\n",
    "\n",
    "Example:\n",
    "```http\n",
    "GET /search?q=query HTTP/1.1\n",
    "Host: example.com\n",
    "```\n",
    "\n",
    "### POST Method:\n",
    "- **Purpose:** The POST method is used to submit data to be processed to a specified resource.\n",
    "- **Data in Body:** Parameters are included in the request body, not in the URL. This makes it suitable for sending large amounts of data or sensitive information.\n",
    "- **Caching:** Responses are usually not cached. Data is not visible in the URL.\n",
    "- **Non-Idempotent:** The operation is non-idempotent, meaning that multiple identical requests may have different effects than a single request.\n",
    "\n",
    "Example:\n",
    "```http\n",
    "POST /submit_form HTTP/1.1\n",
    "Host: example.com\n",
    "Content-Type: application/x-www-form-urlencoded\n",
    "\n",
    "param1=value1&param2=value2\n",
    "```\n",
    "\n",
    "In summary, the GET method is used for retrieving data, and the data is usually passed through URL parameters. The POST method is used for submitting data to be processed, and the data is typically sent in the request body. The choice between them depends on the nature of the operation and the data being transferred."
   ]
  },
  {
   "cell_type": "markdown",
   "id": "c124e4da-77bf-46e7-a830-3b0c7aff5a64",
   "metadata": {},
   "source": [
    "# Q2. Why is request used in Flask?"
   ]
  },
  {
   "cell_type": "markdown",
   "id": "82583336-5595-483a-8ebd-eb4ef6d19c2e",
   "metadata": {},
   "source": [
    "In Flask, the request object is used to access and handle incoming HTTP requests. The request object provides a convenient way to retrieve data submitted by a client in a request. It is part of the Flask framework and is an instance of the Request class provided by the Werkzeug utility library, which Flask builds upon.\n",
    "\n",
    "Here are some common use cases for the request object in Flask:\n",
    "\n",
    "Accessing Form Data:\n",
    "\n",
    "When a user submits an HTML form, the form data is typically sent as part of the HTTP request. The request object allows you to access this form data easily."
   ]
  },
  {
   "cell_type": "markdown",
   "id": "6c383c0c-64ac-4d01-ae7a-ee790f0ccab2",
   "metadata": {},
   "source": [
    "# Q3. Why is redirect() used in Flask?"
   ]
  },
  {
   "cell_type": "markdown",
   "id": "1316e784-9052-48e8-ad0f-c43e6e34a295",
   "metadata": {},
   "source": [
    "In Flask, the `redirect()` function is used for the following purposes:\n",
    "\n",
    "1. **Page Redirection (1 mark):**\n",
    "   - `redirect()` is employed to guide the user to a different page after a specific action, such as form submission or login processing.\n",
    "\n",
    "   ```python\n",
    "   from flask import Flask, redirect, url_for\n",
    "\n",
    "   app = Flask(__name__)\n",
    "\n",
    "   @app.route('/login', methods=['POST'])\n",
    "   def login():\n",
    "       # Process login form\n",
    "       # Redirect to the home page after successful login\n",
    "       return redirect(url_for('home'))\n",
    "   ```\n",
    "\n",
    "2. **Dynamic URL Building (1 mark):**\n",
    "   - It is often combined with `url_for()` to dynamically construct URLs, facilitating updates to URL structures without modifying the redirect-generating code.\n",
    "\n",
    "   ```python\n",
    "   from flask import Flask, redirect, url_for\n",
    "\n",
    "   app = Flask(__name__)\n",
    "\n",
    "   @app.route('/old_path')\n",
    "   def old_path():\n",
    "       # Redirect to a dynamically generated URL\n",
    "       return redirect(url_for('new_path'))\n",
    "   ```\n",
    "\n",
    "3. **External Redirection (1 mark):**\n",
    "   - `redirect()` can be used to redirect users to external URLs, enabling navigation to different domains or external resources.\n",
    "\n",
    "   ```python\n",
    "   from flask import Flask, redirect\n",
    "\n",
    "   app = Flask(__name__)\n",
    "\n",
    "   @app.route('/external_link')\n",
    "   def external_link():\n",
    "       # Redirect to an external URL\n",
    "       return redirect('https://example.com')\n",
    "   ```\n",
    "\n",
    "In summary, `redirect()` is utilized in Flask to facilitate page redirection, dynamically build URLs, and redirect users to external resources based on specific application requirements."
   ]
  },
  {
   "cell_type": "markdown",
   "id": "04d6d8df-e0ea-48a2-b66e-b023ecdfd75f",
   "metadata": {},
   "source": [
    "# Q4. What are templates in Flask? Why is the render_template() function used?"
   ]
  },
  {
   "cell_type": "markdown",
   "id": "8537c7c2-9488-4552-af3e-e0af6e611357",
   "metadata": {},
   "source": [
    "**Templates in Flask:**\n",
    "\n",
    "Templates in Flask refer to files containing a mix of HTML and dynamic content, typically written using Jinja2, a template engine for Python. Templates allow you to separate the structure of your HTML from the dynamic content generated by your Flask application. This separation of concerns improves code organization and makes it easier to maintain and update your web pages.\n",
    "\n",
    "In Flask, templates are stored in the `templates` folder within the project directory. The `render_template()` function is used to render these templates and generate HTML pages dynamically.\n",
    "\n",
    "**`render_template()` Function:**\n",
    "\n",
    "The `render_template()` function in Flask is used for the following reasons:\n",
    "\n",
    "1. **Rendering HTML Pages (1 mark):**\n",
    "   - `render_template()` is the primary method for rendering HTML pages dynamically by combining static HTML content with dynamic data provided by the Flask application.\n",
    "\n",
    "   ```python\n",
    "   from flask import Flask, render_template\n",
    "\n",
    "   app = Flask(__name__)\n",
    "\n",
    "   @app.route('/')\n",
    "   def index():\n",
    "       # Render the 'index.html' template\n",
    "       return render_template('index.html', title='Home', content='Welcome to the homepage')\n",
    "   ```\n",
    "\n",
    "2. **Injecting Dynamic Data (1 mark):**\n",
    "   - It allows you to pass dynamic data from the Python code to the template. This data is then used within the HTML file to generate content dynamically.\n",
    "\n",
    "   ```html\n",
    "   <!-- index.html -->\n",
    "   <html>\n",
    "   <head>\n",
    "       <title>{{ title }}</title>\n",
    "   </head>\n",
    "   <body>\n",
    "       <h1>{{ content }}</h1>\n",
    "   </body>\n",
    "   </html>\n",
    "   ```\n",
    "\n",
    "3. **Template Inheritance (Optional):**\n",
    "   - Templates support inheritance, enabling you to create a base template with a common structure and extend or override specific sections in child templates. This promotes code reuse and maintainability.\n",
    "\n",
    "   ```html\n",
    "   <!-- base.html -->\n",
    "   <html>\n",
    "   <head>\n",
    "       <title>{% block title %}{% endblock %}</title>\n",
    "   </head>\n",
    "   <body>\n",
    "       {% block content %}{% endblock %}\n",
    "   </body>\n",
    "   </html>\n",
    "   ```\n",
    "\n",
    "   ```html\n",
    "   <!-- index.html -->\n",
    "   {% extends 'base.html' %}\n",
    "\n",
    "   {% block title %}Home{% endblock %}\n",
    "\n",
    "   {% block content %}\n",
    "   <h1>Welcome to the homepage</h1>\n",
    "   {% endblock %}\n",
    "   ```\n",
    "\n",
    "In summary, templates in Flask are HTML files with embedded dynamic content, and the `render_template()` function is used to render these templates, inject dynamic data, and create dynamic HTML pages in a Flask application."
   ]
  },
  {
   "cell_type": "markdown",
   "id": "6968631f-b326-4a23-a053-e8bb12026e6b",
   "metadata": {},
   "source": [
    "# Q5. Create a simple API. Use Postman to test it. Attach the screenshot of the output in the Jupyter Notebook."
   ]
  },
  {
   "cell_type": "code",
   "execution_count": null,
   "id": "3bdc54d9-612d-4e5e-834e-253535fe5cca",
   "metadata": {},
   "outputs": [],
   "source": [
    "from flask import Flask, jsonify, request\n",
    "\n",
    "app = Flask(__name__)\n",
    "\n",
    "# Define a simple API endpoint\n",
    "@app.route('/api/greet', methods=['GET'])\n",
    "def greet():\n",
    "    name = request.args.get('name', 'Guest')\n",
    "    return jsonify({'message': f'Hello, {name}!'})\n",
    "\n",
    "if __name__ == '__main__':\n",
    "    app.run(debug=True)\n"
   ]
  }
 ],
 "metadata": {
  "kernelspec": {
   "display_name": "Python 3 (ipykernel)",
   "language": "python",
   "name": "python3"
  },
  "language_info": {
   "codemirror_mode": {
    "name": "ipython",
    "version": 3
   },
   "file_extension": ".py",
   "mimetype": "text/x-python",
   "name": "python",
   "nbconvert_exporter": "python",
   "pygments_lexer": "ipython3",
   "version": "3.10.8"
  }
 },
 "nbformat": 4,
 "nbformat_minor": 5
}
